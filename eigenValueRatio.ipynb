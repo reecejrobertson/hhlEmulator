{
 "cells": [
  {
   "cell_type": "code",
   "execution_count": 1,
   "metadata": {},
   "outputs": [
    {
     "name": "stdout",
     "output_type": "stream",
     "text": [
      "2 1\n"
     ]
    }
   ],
   "source": [
    "# Import all dependencies\n",
    "import numpy as np\n",
    "from fractions import Fraction\n",
    "\n",
    "# Create the function \n",
    "def eigenValueRatio(A,n_c):\n",
    "    '''\n",
    "    input paramaters : \n",
    "    A : The matrix for which we need to fidn the eigen values. In this case it will always be a 2x2 Hermitian matrix\n",
    "    n_c : Number of counting qubits.\n",
    "\n",
    "    Returns :\n",
    "    The Eigen values (lamda_tilde) that give the same ratio as the eigen values of the given matrix\n",
    "    '''\n",
    "    # Get the eigen values of the matrix\n",
    "    eigenvalues = np.linalg.eigvals(A)\n",
    "\n",
    "    # Get the range of the inetgers possible in the fraction which can be embedded in the counting qubits n_c\n",
    "    range = 2**n_c - 1\n",
    "\n",
    "    # Convert the the given eigen values into fractions.Here the limit on the denominator will be the range\n",
    "    lamda1 = Fraction(eigenvalues[0]).limit_denominator(range)\n",
    "    lamda2 = Fraction(eigenvalues[1]).limit_denominator(range)\n",
    "\n",
    "    # Get the ratio\n",
    "    ratio = float(lamda1/lamda2)\n",
    "\n",
    "    # Now get the values of lamda1_tilde and lamda2_tilde that give the same ratio. \n",
    "    # The constraint is that the numerator and denominator must be integers and must not be grater than the range\n",
    "    frac = Fraction(ratio).limit_denominator(range)\n",
    "\n",
    "    # The numerator of frac is our lamda1_tilde and the denominator is our lamda2_tilde\n",
    "    lamda1_tilde = frac.numerator\n",
    "    lamda2_tilde = frac.denominator\n",
    "\n",
    "    # Return the values\n",
    "    return lamda1_tilde , lamda2_tilde\n",
    "\n",
    "# Example \n",
    "# Set Matrix A\n",
    "A = [[1 , -1/3],[-1/3 , 1]]\n",
    "# Set counting qubits n_c\n",
    "n_c = 2\n",
    "# Call the function\n",
    "l1 , l2 = eigenValueRatio(A,n_c)\n",
    "# Print the Lamda_tilde values\n",
    "print(l1,l2)"
   ]
  }
 ],
 "metadata": {
  "kernelspec": {
   "display_name": "Quantum_Computing_Project",
   "language": "python",
   "name": "python3"
  },
  "language_info": {
   "codemirror_mode": {
    "name": "ipython",
    "version": 3
   },
   "file_extension": ".py",
   "mimetype": "text/x-python",
   "name": "python",
   "nbconvert_exporter": "python",
   "pygments_lexer": "ipython3",
   "version": "3.9.18"
  }
 },
 "nbformat": 4,
 "nbformat_minor": 2
}
