{
 "cells": [
  {
   "cell_type": "code",
   "execution_count": 15,
   "metadata": {},
   "outputs": [],
   "source": [
    "import numpy as np\n",
    "import matplotlib.pyplot as plt"
   ]
  },
  {
   "cell_type": "code",
   "execution_count": 16,
   "metadata": {},
   "outputs": [],
   "source": [
    "def emulateHHL(A,b,lamda0_tilde,lamda1_tilde):\n",
    "        '''\n",
    "        input parameters :\n",
    "        A : The matrix A for which we need to calculate the eigen values and eigen vectors\n",
    "        b : the vector from the system of equeation Ax = b.\n",
    "        lamda0_tilde  : The value of the first Eigen value.\n",
    "        lamda1_tilde : The value for the second Eigen value.\n",
    "\n",
    "        return parameters:\n",
    "        count : Dictionary where key is the quantum states |00>, |01>, |10>, |11> \n",
    "                and the values are the corresponding counts, hence giving a probablity distribution\n",
    "        '''\n",
    "\n",
    "        # Get the solution to the system of linear equations\n",
    "        x1,x2 = np.linalg.solve(A,b)\n",
    "\n",
    "        # Normalize the values so that they can be encoded as amplitudes of the quantum state we create for x as |x>\n",
    "        normalized_x1 = (x1)/np.sqrt(x1**2 + x2**2)\n",
    "        normalized_x2 = (x2)/np.sqrt(x1**2 + x2**2)\n",
    "\n",
    "        # Create the Qunatum State for x\n",
    "        ket_x = [normalized_x1 , normalized_x2]\n",
    "\n",
    "        # Define the value for C \n",
    "        c = np.minimum(lamda0_tilde,lamda1_tilde)\n",
    "\n",
    "        # Create ket zero\n",
    "        ket_zero = np.array([1,0])\n",
    "\n",
    "        # Create ket one\n",
    "        ket_one = np.array([0,1])\n",
    "\n",
    "        # Create ket 'a' which is the quantum state of the ancilla qubit for lamda0_tilde\n",
    "        ket_a_lamda0_tilde = (np.sqrt(1 - (c**2/lamda0_tilde**2)))*ket_zero + (c/lamda0_tilde)*ket_one\n",
    "\n",
    "        # Create ket 'a' which is the quantum state of the ancilla qubit for lamda1_tilde\n",
    "        ket_a_lamda1_tilde = (np.sqrt(1 - (c**2/lamda1_tilde**2)))*ket_zero + (c/lamda1_tilde)*ket_one\n",
    "\n",
    "        # Get the tensor product of x and a . This is essentially going to give us the amplitudes of |00>, |01>, |10>, |11> \n",
    "        x_a_lamda0_tensor = np.kron(ket_x,ket_a_lamda0_tilde)\n",
    "\n",
    "        x_a_lamda1_tensor = np.kron(ket_x,ket_a_lamda1_tilde)\n",
    " \n",
    "        x_a_tensor = x_a_lamda0_tensor + x_a_lamda1_tensor\n",
    "\n",
    "        # Normalise the amplitudes\n",
    "        norm_x_a_tensor = np.linalg.norm(x_a_tensor)\n",
    "\n",
    "        x_a_tensor_amplitude = (1/norm_x_a_tensor) * x_a_tensor\n",
    "\n",
    "        # Create a Dictionary for the measure count of the states |00>, |01>, |10>, |11>  \n",
    "        measure_count = {'00': 0, '01': 0, '10': 0, '11': 0}\n",
    "\n",
    "        for i in range(8192):\n",
    "                r = np.random.rand()\n",
    "                if r < x_a_tensor_amplitude[0]**2:\n",
    "                        measure_count['00'] += 1\n",
    "                elif r < (x_a_tensor_amplitude[0]**2 + x_a_tensor_amplitude[1]**2):\n",
    "                        measure_count['01'] += 1\n",
    "                elif r < (x_a_tensor_amplitude[0]**2 + x_a_tensor_amplitude[1]**2 + x_a_tensor_amplitude[2]**2):\n",
    "                        measure_count['10'] += 1\n",
    "                else:\n",
    "                        measure_count['11'] += 1\n",
    "        # Extracting keys and values from the dictionary\n",
    "        x_values = list(measure_count.keys())\n",
    "        y_values = list(measure_count.values())\n",
    "\n",
    "        # Calculating probabilities\n",
    "        total_counts = sum(y_values)\n",
    "        probabilities = [count / total_counts for count in y_values]\n",
    "\n",
    "        # Plotting the histogram with exact y-values on top of the bars\n",
    "        fig, ax = plt.subplots()\n",
    "        bars = ax.bar(x_values, probabilities, color='blue', alpha=0.7)\n",
    "\n",
    "        # Adding exact y-values on top of the bars\n",
    "        for bar, prob in zip(bars, probabilities):\n",
    "                yval = bar.get_height()\n",
    "                ax.text(bar.get_x() + bar.get_width() / 2, yval, round(yval, 3), ha='center', va='bottom')\n",
    "\n",
    "\n",
    "        # Plotting the histogram\n",
    "        # plt.bar(x_values, probabilities, color='blue', alpha=0.7)\n",
    "        plt.xlabel('X Values')\n",
    "        plt.ylabel('Probability')\n",
    "        plt.title('Histogram of Probabilities')\n",
    "        plt.show()\n",
    "\n",
    "        return measure_count\n"
   ]
  },
  {
   "cell_type": "code",
   "execution_count": 17,
   "metadata": {},
   "outputs": [
    {
     "data": {
      "image/png": "[encoded data removed]",
      "text/plain": [
       "<Figure size 640x480 with 1 Axes>"
      ]
     },
     "metadata": {},
     "output_type": "display_data"
    },
    {
     "name": "stdout",
     "output_type": "stream",
     "text": [
      "{'00': 196, '01': 586, '10': 1797, '11': 5613}\n"
     ]
    }
   ],
   "source": [
    "import numpy as np\n",
    "A = [[1 , -1/3],[-1/3 , 1]]\n",
    "b = [0,1]\n",
    "count = emulateHHL(A,b,1,2)\n",
    "print(count)\n"
   ]
  }
 ],
 "metadata": {
  "kernelspec": {
   "display_name": "Quantum_Computing_Project",
   "language": "python",
   "name": "python3"
  },
  "language_info": {
   "codemirror_mode": {
    "name": "ipython",
    "version": 3
   },
   "file_extension": ".py",
   "mimetype": "text/x-python",
   "name": "python",
   "nbconvert_exporter": "python",
   "pygments_lexer": "ipython3",
   "version": "3.9.18"
  }
 },
 "nbformat": 4,
 "nbformat_minor": 2
}
